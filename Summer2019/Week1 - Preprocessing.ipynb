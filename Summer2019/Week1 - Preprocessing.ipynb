{
 "cells": [
  {
   "cell_type": "markdown",
   "metadata": {},
   "source": [
    "# 2019 IMFS Data Science Competition - Netflix for Bonds\n",
    "## Week1 Materials - Data Preparation and Visualization\n",
    "\n",
    "Welcome to the 2019 IMFS Competition! In this data preparation and visulization notebook, you will:\n",
    "\n",
    "- Load the data into the notebook\n",
    "- Save the data for next time usage\n",
    "- Preprocessing the data\n",
    "- Visualize the data\n",
    "\n",
    "\n",
    "\n",
    "**After this assignment you will be able to:**\n",
    "\n",
    "- Load the data into models\n",
    "\n",
    "- Observe the data in 2D image\n",
    "\n",
    "We assume here that you have read the comeptition rules. If you have not, please go back to https://github.com/fintechsteve/imfs-datascience-comp/tree/master/Summer2019"
   ]
  },
  {
   "cell_type": "markdown",
   "metadata": {},
   "source": [
    "## 1.0 - Import packages and Load the Data\n",
    "\n",
    "In this section you will import the necessary modules and packages you may need to use in the competition and load the data. The definition of modules and packages is here: https://www.learnpython.org/en/Modules_and_Packages\n",
    "\n",
    "Please feel free to import and use any modules and packages you think may help you in this competition."
   ]
  },
  {
   "cell_type": "code",
   "execution_count": 13,
   "metadata": {
    "collapsed": true
   },
   "outputs": [],
   "source": [
    "import pandas as pd\n",
    "import numpy as np\n",
    "from os.path import join\n",
    "from os import listdir, getcwd\n",
    "from sklearn.cluster import KMeans\n",
    "import matplotlib.pyplot as plt\n",
    "import seaborn as sns; sns.set()\n",
    "from sklearn.preprocessing import StandardScaler\n",
    "import pickle\n",
    "from datetime import datetime\n",
    "from sklearn.decomposition import PCA\n",
    "\n"
   ]
  },
  {
   "cell_type": "markdown",
   "metadata": {},
   "source": [
    "## 1.1 - Load the Data\n",
    "\n",
    "We prepared the data in a pickle file and it can be loaded from the code below, Please note: due to the limitation of uploding file size in github, if you want to run it locally on your laptop, you need to download the data \"dataset_merge.pkl\" from Kaggle page."
   ]
  },
  {
   "cell_type": "code",
   "execution_count": 14,
   "metadata": {
    "collapsed": true
   },
   "outputs": [],
   "source": [
    "training_data= pickle.load(open(\"dataset_merge.pkl\", \"rb\" ))"
   ]
  },
  {
   "cell_type": "markdown",
   "metadata": {},
   "source": [
    "## 2.0  Visualization\n",
    "\n",
    "After proprocessing the data, we want to see what data looks like and if there is any clusters for different Cusips. We average the same cusip data here and use PCA to do reduce the dataset to 2D dataset and display it. There are many other ways to visualize it and can potentially help you understand the data better, please feel free to try yourself."
   ]
  },
  {
   "cell_type": "markdown",
   "metadata": {},
   "source": [
    "## 2.1 - Groupby Cusip and Scale the Data\n",
    "\n",
    "We use the groupby function to groupby the dataset by 'Cusips' attribute we created above, and we take the average of the groupby to better visualize it, after groupby and average, we fill the NA and scale the data, this resource may help you to understand better where when and why we scale the data: https://www.geeksforgeeks.org/python-how-and-where-to-apply-feature-scaling/\n",
    "\n"
   ]
  },
  {
   "cell_type": "code",
   "execution_count": 19,
   "metadata": {},
   "outputs": [],
   "source": [
    "# get the average stats for each cusip, you can group by different attribute to see different visualization\n",
    "ave_df = training_data.groupby('Cpn').mean()\n",
    "# fill the na, there are many different ways to fill na, \n",
    "# you can try different one to see how does them affect your result\n",
    "ave_df = ave_df.fillna(ave_df.mean())\n",
    "# we are doing a  StandardScaler here, similarly, there are different ways to scale data\n",
    "# please feel free to try other methods\n",
    "train_x = StandardScaler().fit_transform(ave_df)"
   ]
  },
  {
   "cell_type": "markdown",
   "metadata": {},
   "source": [
    "## 2.2 - PCA\n",
    "\n",
    "PCA is one of the most popular methods to reduce the dimension in the dataset, the reason we want to reduce dimensions here is we want to reduce the dimensions to 2D so human can understand the visulization.\n",
    "\n"
   ]
  },
  {
   "cell_type": "code",
   "execution_count": 20,
   "metadata": {},
   "outputs": [],
   "source": [
    "# apply pca to dataset\n",
    "pca = PCA(n_components=2)\n",
    "principalComponents = pca.fit_transform(train_x)\n",
    "principalDf = pd.DataFrame(data = principalComponents\n",
    "             , columns = ['principal component 1', 'principal component 2'])"
   ]
  },
  {
   "cell_type": "code",
   "execution_count": 21,
   "metadata": {},
   "outputs": [
    {
     "data": {
      "text/html": [
       "<div>\n",
       "<style scoped>\n",
       "    .dataframe tbody tr th:only-of-type {\n",
       "        vertical-align: middle;\n",
       "    }\n",
       "\n",
       "    .dataframe tbody tr th {\n",
       "        vertical-align: top;\n",
       "    }\n",
       "\n",
       "    .dataframe thead th {\n",
       "        text-align: right;\n",
       "    }\n",
       "</style>\n",
       "<table border=\"1\" class=\"dataframe\">\n",
       "  <thead>\n",
       "    <tr style=\"text-align: right;\">\n",
       "      <th></th>\n",
       "      <th>principal component 1</th>\n",
       "      <th>principal component 2</th>\n",
       "    </tr>\n",
       "  </thead>\n",
       "  <tbody>\n",
       "    <tr>\n",
       "      <th>0</th>\n",
       "      <td>-5.262594</td>\n",
       "      <td>1.031182</td>\n",
       "    </tr>\n",
       "    <tr>\n",
       "      <th>1</th>\n",
       "      <td>-5.813801</td>\n",
       "      <td>1.661013</td>\n",
       "    </tr>\n",
       "    <tr>\n",
       "      <th>2</th>\n",
       "      <td>-5.796228</td>\n",
       "      <td>1.953139</td>\n",
       "    </tr>\n",
       "    <tr>\n",
       "      <th>3</th>\n",
       "      <td>-4.858668</td>\n",
       "      <td>0.528777</td>\n",
       "    </tr>\n",
       "    <tr>\n",
       "      <th>4</th>\n",
       "      <td>-4.924218</td>\n",
       "      <td>0.788218</td>\n",
       "    </tr>\n",
       "  </tbody>\n",
       "</table>\n",
       "</div>"
      ],
      "text/plain": [
       "   principal component 1  principal component 2\n",
       "0              -5.262594               1.031182\n",
       "1              -5.813801               1.661013\n",
       "2              -5.796228               1.953139\n",
       "3              -4.858668               0.528777\n",
       "4              -4.924218               0.788218"
      ]
     },
     "execution_count": 21,
     "metadata": {},
     "output_type": "execute_result"
    }
   ],
   "source": [
    "# we can have a look at the dataset now\n",
    "principalDf.head(5)"
   ]
  },
  {
   "cell_type": "code",
   "execution_count": 22,
   "metadata": {},
   "outputs": [
    {
     "data": {
      "text/plain": [
       "<matplotlib.collections.PathCollection at 0x1a39571c88>"
      ]
     },
     "execution_count": 22,
     "metadata": {},
     "output_type": "execute_result"
    },
    {
     "data": {
      "image/png": "[encoded data removed]",
      "text/plain": [
       "<Figure size 576x576 with 1 Axes>"
      ]
     },
     "metadata": {},
     "output_type": "display_data"
    }
   ],
   "source": [
    "# plot the dataset here\n",
    "fig = plt.figure(figsize = (8,8))\n",
    "ax = fig.add_subplot(1,1,1) \n",
    "x1 = principalDf['principal component 1']\n",
    "x2 = principalDf['principal component 2']\n",
    "ax.scatter(x1, x2)"
   ]
  },
  {
   "cell_type": "code",
   "execution_count": null,
   "metadata": {
    "collapsed": true
   },
   "outputs": [],
   "source": []
  },
  {
   "cell_type": "code",
   "execution_count": null,
   "metadata": {
    "collapsed": true
   },
   "outputs": [],
   "source": []
  }
 ],
 "metadata": {
  "kernelspec": {
   "display_name": "Python 3",
   "language": "python",
   "name": "python3"
  },
  "language_info": {
   "codemirror_mode": {
    "name": "ipython",
    "version": 3
   },
   "file_extension": ".py",
   "mimetype": "text/x-python",
   "name": "python",
   "nbconvert_exporter": "python",
   "pygments_lexer": "ipython3",
   "version": "3.7.0"
  }
 },
 "nbformat": 4,
 "nbformat_minor": 2
}
