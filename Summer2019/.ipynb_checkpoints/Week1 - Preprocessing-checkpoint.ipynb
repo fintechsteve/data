{
 "cells": [
  {
   "cell_type": "markdown",
   "metadata": {},
   "source": [
    "# 2019 IMFS Data Science Competition - Netflix for Bonds\n",
    "## Week1 Materials - Data Preparation and Visualization\n",
    "\n",
    "Welcome to the 2019 IMFS Competition! In this data preparation and visulization notebook, you will:\n",
    "\n",
    "- Load the data into the notebook\n",
    "- Save the data for next time usage\n",
    "- Preprocessing the data\n",
    "- Visualize the data\n",
    "\n",
    "\n",
    "\n",
    "**After this assignment you will be able to:**\n",
    "\n",
    "- Load the data into models\n",
    "\n",
    "We assume here that you have read the comeptition rules. If you have not, please go back to https://github.com/fintechsteve/imfs-datascience-comp/tree/master/Summer2019"
   ]
  },
  {
   "cell_type": "markdown",
   "metadata": {},
   "source": [
    "## 1.0 - Import packages and Load the Data\n",
    "\n",
    "In this section you will import the necessary modules and packages you may need to use in the competition and load the data. The definition of modules and packages is here: https://www.learnpython.org/en/Modules_and_Packages\n",
    "\n",
    "Please feel free to import and use any modules and packages you think may help you in this competition."
   ]
  },
  {
   "cell_type": "markdown",
   "metadata": {},
   "source": [
    "## 1.1 - Import packages\n",
    "\n",
    "To run the cell below to load the packages you just need to click the \"run cell\" button above or press Ctrl + Enter "
   ]
  },
  {
   "cell_type": "code",
   "execution_count": 100,
   "metadata": {},
   "outputs": [
    {
     "name": "stdout",
     "output_type": "stream",
     "text": [
      "Requirement already satisfied: pandas in /Users/a9hv/anaconda/envs/dschallenge/lib/python3.7/site-packages (0.24.2)\n",
      "Requirement already satisfied: pytz>=2011k in /Users/a9hv/anaconda/envs/dschallenge/lib/python3.7/site-packages (from pandas) (2018.9)\n",
      "Requirement already satisfied: numpy>=1.12.0 in /Users/a9hv/anaconda/envs/dschallenge/lib/python3.7/site-packages (from pandas) (1.16.2)\n",
      "Requirement already satisfied: python-dateutil>=2.5.0 in /Users/a9hv/anaconda/envs/dschallenge/lib/python3.7/site-packages (from pandas) (2.8.0)\n",
      "Requirement already satisfied: six>=1.5 in /Users/a9hv/anaconda/envs/dschallenge/lib/python3.7/site-packages (from python-dateutil>=2.5.0->pandas) (1.12.0)\n",
      "Requirement already satisfied: numpy in /Users/a9hv/anaconda/envs/dschallenge/lib/python3.7/site-packages (1.16.2)\n",
      "Requirement already satisfied: sklearn in /Users/a9hv/anaconda/envs/dschallenge/lib/python3.7/site-packages (0.0)\n",
      "Requirement already satisfied: scikit-learn in /Users/a9hv/anaconda/envs/dschallenge/lib/python3.7/site-packages (from sklearn) (0.20.3)\n",
      "Requirement already satisfied: scipy>=0.13.3 in /Users/a9hv/anaconda/envs/dschallenge/lib/python3.7/site-packages (from scikit-learn->sklearn) (1.2.1)\n",
      "Requirement already satisfied: numpy>=1.8.2 in /Users/a9hv/anaconda/envs/dschallenge/lib/python3.7/site-packages (from scikit-learn->sklearn) (1.16.2)\n",
      "Requirement already satisfied: matplotlib in /Users/a9hv/anaconda/envs/dschallenge/lib/python3.7/site-packages (3.0.3)\n",
      "Requirement already satisfied: numpy>=1.10.0 in /Users/a9hv/anaconda/envs/dschallenge/lib/python3.7/site-packages (from matplotlib) (1.16.2)\n",
      "Requirement already satisfied: cycler>=0.10 in /Users/a9hv/anaconda/envs/dschallenge/lib/python3.7/site-packages (from matplotlib) (0.10.0)\n",
      "Requirement already satisfied: kiwisolver>=1.0.1 in /Users/a9hv/anaconda/envs/dschallenge/lib/python3.7/site-packages (from matplotlib) (1.0.1)\n",
      "Requirement already satisfied: pyparsing!=2.0.4,!=2.1.2,!=2.1.6,>=2.0.1 in /Users/a9hv/anaconda/envs/dschallenge/lib/python3.7/site-packages (from matplotlib) (2.3.1)\n",
      "Requirement already satisfied: python-dateutil>=2.1 in /Users/a9hv/anaconda/envs/dschallenge/lib/python3.7/site-packages (from matplotlib) (2.8.0)\n",
      "Requirement already satisfied: six in /Users/a9hv/anaconda/envs/dschallenge/lib/python3.7/site-packages (from cycler>=0.10->matplotlib) (1.12.0)\n",
      "Requirement already satisfied: setuptools in /Users/a9hv/anaconda/envs/dschallenge/lib/python3.7/site-packages (from kiwisolver>=1.0.1->matplotlib) (40.8.0)\n",
      "Requirement already satisfied: seaborn in /Users/a9hv/anaconda/envs/dschallenge/lib/python3.7/site-packages (0.9.0)\n",
      "Requirement already satisfied: numpy>=1.9.3 in /Users/a9hv/anaconda/envs/dschallenge/lib/python3.7/site-packages (from seaborn) (1.16.2)\n",
      "Requirement already satisfied: pandas>=0.15.2 in /Users/a9hv/anaconda/envs/dschallenge/lib/python3.7/site-packages (from seaborn) (0.24.2)\n",
      "Requirement already satisfied: scipy>=0.14.0 in /Users/a9hv/anaconda/envs/dschallenge/lib/python3.7/site-packages (from seaborn) (1.2.1)\n",
      "Requirement already satisfied: matplotlib>=1.4.3 in /Users/a9hv/anaconda/envs/dschallenge/lib/python3.7/site-packages (from seaborn) (3.0.3)\n",
      "Requirement already satisfied: pytz>=2011k in /Users/a9hv/anaconda/envs/dschallenge/lib/python3.7/site-packages (from pandas>=0.15.2->seaborn) (2018.9)\n",
      "Requirement already satisfied: python-dateutil>=2.5.0 in /Users/a9hv/anaconda/envs/dschallenge/lib/python3.7/site-packages (from pandas>=0.15.2->seaborn) (2.8.0)\n",
      "Requirement already satisfied: cycler>=0.10 in /Users/a9hv/anaconda/envs/dschallenge/lib/python3.7/site-packages (from matplotlib>=1.4.3->seaborn) (0.10.0)\n",
      "Requirement already satisfied: kiwisolver>=1.0.1 in /Users/a9hv/anaconda/envs/dschallenge/lib/python3.7/site-packages (from matplotlib>=1.4.3->seaborn) (1.0.1)\n",
      "Requirement already satisfied: pyparsing!=2.0.4,!=2.1.2,!=2.1.6,>=2.0.1 in /Users/a9hv/anaconda/envs/dschallenge/lib/python3.7/site-packages (from matplotlib>=1.4.3->seaborn) (2.3.1)\n",
      "Requirement already satisfied: six>=1.5 in /Users/a9hv/anaconda/envs/dschallenge/lib/python3.7/site-packages (from python-dateutil>=2.5.0->pandas>=0.15.2->seaborn) (1.12.0)\n",
      "Requirement already satisfied: setuptools in /Users/a9hv/anaconda/envs/dschallenge/lib/python3.7/site-packages (from kiwisolver>=1.0.1->matplotlib>=1.4.3->seaborn) (40.8.0)\n"
     ]
    }
   ],
   "source": [
    "import sys\n",
    "!{sys.executable} -m pip install pandas\n",
    "!{sys.executable} -m pip install numpy\n",
    "!{sys.executable} -m pip install sklearn\n",
    "!{sys.executable} -m pip install matplotlib\n",
    "!{sys.executable} -m pip install seaborn\n",
    "\n",
    "import pandas as pd\n",
    "import numpy as np\n",
    "from os.path import join\n",
    "from os import listdir, getcwd\n",
    "from sklearn.cluster import KMeans\n",
    "import numpy as np\n",
    "import matplotlib.pyplot as plt\n",
    "import seaborn as sns; sns.set()\n",
    "from sklearn.preprocessing import StandardScaler\n",
    "import pickle\n",
    "from datetime import datetime\n",
    "from sklearn.decomposition import PCA"
   ]
  },
  {
   "cell_type": "markdown",
   "metadata": {},
   "source": [
    "## 1.2 - Load the Data Function\n",
    "\n",
    "You may have already found out that the data is stored in xls files in the folder \"pricingdata_07march2019\" and \"pricingdata_08march2019\" which are under the \"dataset\" folder. We designed a function to load the data from these two folders."
   ]
  },
  {
   "cell_type": "code",
   "execution_count": 101,
   "metadata": {
    "collapsed": true
   },
   "outputs": [],
   "source": [
    "def load_data(fir_folder, sec_folder):\n",
    "    '''\n",
    "    \n",
    "    Load the data from two folders\n",
    "    \n",
    "    :param fir_folder: the path of one of the folder\n",
    "    :param sec_folder: the path of the other folder\n",
    "    \n",
    "    :return: dataframe contains data\n",
    "    \n",
    "    '''\n",
    "    \n",
    "    res_list = []\n",
    "    paths = []\n",
    "    def get_paths(folder_name, paths):\n",
    "        for filename in listdir(folder_name):\n",
    "            if filename.endswith('.xls'):\n",
    "                file_path = join(folder_name, filename)\n",
    "                paths.append(file_path)\n",
    "    get_paths(fir_folder, paths)\n",
    "    get_paths(sec_folder, paths)\n",
    "    for file_path in paths:\n",
    "        df = pd.read_excel(file_path, header = 6, index_col = 0)\n",
    "        res_list.append(df)\n",
    "    return pd.concat(res_list)"
   ]
  },
  {
   "cell_type": "markdown",
   "metadata": {},
   "source": [
    "## 1.3 - Find the path\n",
    "\n",
    "You have already defined the function to return the dataframe, but you still need to locate the paths of two folders."
   ]
  },
  {
   "cell_type": "code",
   "execution_count": 102,
   "metadata": {
    "collapsed": true
   },
   "outputs": [],
   "source": [
    "## get the path of dataset folder\n",
    "dataset_path = join(getcwd(), 'dataset')\n",
    "## get the path of pricingdata_07march2019 and pricingdata_08march2019\n",
    "fir_folder, sec_folder \\\n",
    "= join(dataset_path, 'pricingdata_07march2019'), join(dataset_path, 'pricingdata_08march2019')"
   ]
  },
  {
   "cell_type": "code",
   "execution_count": 103,
   "metadata": {
    "collapsed": true
   },
   "outputs": [],
   "source": [
    "## After defining the loading functions and finding the two folders' path, \n",
    "## you can run the function to load the data\n",
    "## into a variable called training_data \n",
    "training_data = load_data(fir_folder, sec_folder)"
   ]
  },
  {
   "cell_type": "markdown",
   "metadata": {},
   "source": [
    "## 1.4 - Save the data into a pickle file\n",
    "\n",
    "As you may know, usually input/output(I/O) costs a lot of time due to the limitation of memory on your laptop, so to reduce the time you are going to load the data next time, you can save the training_data into a pickle file; "
   ]
  },
  {
   "cell_type": "code",
   "execution_count": 104,
   "metadata": {
    "collapsed": true
   },
   "outputs": [],
   "source": [
    "training_data.to_pickle('train_data.pickle')"
   ]
  },
  {
   "cell_type": "markdown",
   "metadata": {},
   "source": [
    "## 1.5 - Load the data from a pickle file\n",
    "\n",
    "If you have already run the code above, you can direclty run the code from this cell, because loading data from pickle file rather than xls will save you a lot of time."
   ]
  },
  {
   "cell_type": "code",
   "execution_count": 105,
   "metadata": {
    "collapsed": true
   },
   "outputs": [],
   "source": [
    "import pandas as pd\n",
    "import numpy as np\n",
    "from os.path import join\n",
    "from os import listdir, getcwd\n",
    "from sklearn.cluster import KMeans\n",
    "import matplotlib.pyplot as plt\n",
    "import seaborn as sns; sns.set()\n",
    "from sklearn.preprocessing import StandardScaler\n",
    "import pickle\n",
    "from datetime import datetime\n",
    "from sklearn.decomposition import PCA\n",
    "\n",
    "training_data= pickle.load(open(\"train_data.pickle\", \"rb\" ))"
   ]
  },
  {
   "cell_type": "markdown",
   "metadata": {},
   "source": [
    "## 1.6 - Preprocessing the data\n",
    "\n",
    "As you may have already observed, there are some unrelated texts in the dataset, for example, \"Disclaimer: The format and content of this report may not be modified or altered ...\" and the average stats of a period which is not useful in this project. So we want to preprocess the data to remove them from the data frame."
   ]
  },
  {
   "cell_type": "code",
   "execution_count": 106,
   "metadata": {},
   "outputs": [],
   "source": [
    "date_column = [None for _ in range(len(training_data))]\n",
    "cur_date = None\n",
    "for i in range(len(training_data.index)):\n",
    "    if type(training_data.index[i])!= str or len(training_data.index[i]) > 21:\n",
    "        # if it's nan or long sentence in the end of the file\n",
    "        continue\n",
    "    if not training_data.index[i].isalnum():\n",
    "        # if it's not only contains alphabet and number\n",
    "        cur_date = datetime.strptime(training_data.index[i].split('-')[0], '%m/%d/%Y')\n",
    "    else:\n",
    "        date_column[i] = cur_date\n",
    "# add the date_column to training_data\n",
    "training_data['date'] = date_column\n",
    "# only keep the rows with data needed\n",
    "training_data = training_data.iloc[[ i  for i in range(len(date_column)) if date_column[i]!= None]]\n",
    "# we want to change the index to Cusips and add another index column\n",
    "training_data.reset_index(inplace = True)\n",
    "columns = list(training_data.columns)\n",
    "columns[0] = 'Cusips'\n",
    "training_data.columns = columns"
   ]
  },
  {
   "cell_type": "markdown",
   "metadata": {},
   "source": [
    "## 2.0 - Groupby Cusip and Visualization\n",
    "\n",
    "After proprocessing the data, we want to see what data looks like and if there is any clusters for different Cusips. We average the same cusip data here and use PCA to do reduce the dataset to 2D dataset and display it. There are many other ways to visualize it and can potentially help you understand the data better, please feel free to try yourself."
   ]
  },
  {
   "cell_type": "markdown",
   "metadata": {},
   "source": [
    "## 2.1 - Groupby Cusip and Scale the Data\n",
    "\n",
    "We use the groupby function to groupby the dataset by 'Cusips' attribute we created above, and we take the average of the groupby to better visualize it, after groupby and average, we fill the NA and scale the data, this resource may help you to understand better where when and why we scale the data: https://www.geeksforgeeks.org/python-how-and-where-to-apply-feature-scaling/\n",
    "\n"
   ]
  },
  {
   "cell_type": "code",
   "execution_count": 107,
   "metadata": {},
   "outputs": [],
   "source": [
    "# get the average stats for each cusip, you can group by different attribute to see different visualization\n",
    "ave_df = training_data.groupby('Cusips').mean()\n",
    "# fill the na, there are many different ways to fill na, \n",
    "# you can try different one to see how does them affect your result\n",
    "ave_df = ave_df.fillna(ave_df.mean())\n",
    "# we are doing a  StandardScaler here, similarly, there are different ways to scale data\n",
    "# please feel free to try other methods\n",
    "train_x = StandardScaler().fit_transform(ave_df)"
   ]
  },
  {
   "cell_type": "markdown",
   "metadata": {},
   "source": [
    "## 2.2 - PCA\n",
    "\n",
    "PCA is one of the most popular methods to reduce the dimension in the dataset, the reason we want to reduce dimensions here is we want to reduce the dimensions to 2D so human can understand the visulization.\n",
    "\n"
   ]
  },
  {
   "cell_type": "code",
   "execution_count": 108,
   "metadata": {},
   "outputs": [],
   "source": [
    "# apply pca to dataset\n",
    "pca = PCA(n_components=2)\n",
    "principalComponents = pca.fit_transform(train_x)\n",
    "principalDf = pd.DataFrame(data = principalComponents\n",
    "             , columns = ['principal component 1', 'principal component 2'])"
   ]
  },
  {
   "cell_type": "code",
   "execution_count": 109,
   "metadata": {},
   "outputs": [
    {
     "data": {
      "text/html": [
       "<div>\n",
       "<style scoped>\n",
       "    .dataframe tbody tr th:only-of-type {\n",
       "        vertical-align: middle;\n",
       "    }\n",
       "\n",
       "    .dataframe tbody tr th {\n",
       "        vertical-align: top;\n",
       "    }\n",
       "\n",
       "    .dataframe thead th {\n",
       "        text-align: right;\n",
       "    }\n",
       "</style>\n",
       "<table border=\"1\" class=\"dataframe\">\n",
       "  <thead>\n",
       "    <tr style=\"text-align: right;\">\n",
       "      <th></th>\n",
       "      <th>principal component 1</th>\n",
       "      <th>principal component 2</th>\n",
       "    </tr>\n",
       "  </thead>\n",
       "  <tbody>\n",
       "    <tr>\n",
       "      <th>0</th>\n",
       "      <td>-3.005401</td>\n",
       "      <td>0.217141</td>\n",
       "    </tr>\n",
       "    <tr>\n",
       "      <th>1</th>\n",
       "      <td>1.859220</td>\n",
       "      <td>2.480590</td>\n",
       "    </tr>\n",
       "    <tr>\n",
       "      <th>2</th>\n",
       "      <td>-3.805311</td>\n",
       "      <td>0.558057</td>\n",
       "    </tr>\n",
       "    <tr>\n",
       "      <th>3</th>\n",
       "      <td>-2.268220</td>\n",
       "      <td>-0.126894</td>\n",
       "    </tr>\n",
       "    <tr>\n",
       "      <th>4</th>\n",
       "      <td>-0.643323</td>\n",
       "      <td>0.162150</td>\n",
       "    </tr>\n",
       "  </tbody>\n",
       "</table>\n",
       "</div>"
      ],
      "text/plain": [
       "   principal component 1  principal component 2\n",
       "0              -3.005401               0.217141\n",
       "1               1.859220               2.480590\n",
       "2              -3.805311               0.558057\n",
       "3              -2.268220              -0.126894\n",
       "4              -0.643323               0.162150"
      ]
     },
     "execution_count": 109,
     "metadata": {},
     "output_type": "execute_result"
    }
   ],
   "source": [
    "# we can have a look at the dataset now\n",
    "principalDf.head(5)"
   ]
  },
  {
   "cell_type": "code",
   "execution_count": 110,
   "metadata": {},
   "outputs": [
    {
     "data": {
      "text/plain": [
       "<matplotlib.collections.PathCollection at 0x1a248beac8>"
      ]
     },
     "execution_count": 110,
     "metadata": {},
     "output_type": "execute_result"
    },
    {
     "data": {
      "image/png": "[encoded data removed]",
      "text/plain": [
       "<Figure size 576x576 with 1 Axes>"
      ]
     },
     "metadata": {},
     "output_type": "display_data"
    }
   ],
   "source": [
    "# plot the dataset here\n",
    "fig = plt.figure(figsize = (8,8))\n",
    "ax = fig.add_subplot(1,1,1) \n",
    "x1 = principalDf['principal component 1']\n",
    "x2 = principalDf['principal component 2']\n",
    "ax.scatter(x1, x2)"
   ]
  }
 ],
 "metadata": {
  "kernelspec": {
   "display_name": "Python 3",
   "language": "python",
   "name": "python3"
  },
  "language_info": {
   "codemirror_mode": {
    "name": "ipython",
    "version": 3
   },
   "file_extension": ".py",
   "mimetype": "text/x-python",
   "name": "python",
   "nbconvert_exporter": "python",
   "pygments_lexer": "ipython3",
   "version": "3.7.0"
  }
 },
 "nbformat": 4,
 "nbformat_minor": 2
}
