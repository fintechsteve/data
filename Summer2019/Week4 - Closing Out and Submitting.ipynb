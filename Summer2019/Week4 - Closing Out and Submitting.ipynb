{
 "cells": [
  {
   "cell_type": "markdown",
   "metadata": {},
   "source": [
    "# 2019 IMFS Data Science Competition - Netflix for Bonds\n",
    "## Week4 Materials - Run your model and Submit your results\n",
    "\n",
    "In this week 4 notebook, you will:\n",
    "\n",
    "- Run your recommendation engine for the test CUSIPS for this competition\n",
    "- Run your richness model to predict which bonds are rich or cheap\n",
    "- Submit your results for grading\n",
    "- Smile and be roiud of yoruself for completing this challenge!\n",
    "\n",
    "**After this assignment you will be able to:**\n",
    "\n",
    "- Recommend top 10 most similar bonds for a set of test CUSIPS\n",
    "- Determine the rich and cheap bonds within your trading universe\n",
    "\n",
    "We assume here that you have read the competition rules. If you have not, please go back to https://github.com/fintechsteve/imfs-datascience-comp/tree/master/Summer2019\n",
    "\n",
    "We start with importing modules of interest:"
   ]
  },
  {
   "cell_type": "code",
   "execution_count": 1,
   "metadata": {},
   "outputs": [],
   "source": [
    "import pandas as pd\n",
    "import numpy as np\n",
    "# import pickle\n",
    "from sklearn.cluster import KMeans\n",
    "import matplotlib.pyplot as plt\n",
    "import seaborn as sns; sns.set()\n",
    "from sklearn.preprocessing import StandardScaler\n",
    "from datetime import datetime\n",
    "from sklearn.preprocessing import StandardScaler, OneHotEncoder\n",
    "from sklearn.neighbors import NearestNeighbors\n",
    "from sklearn.decomposition import PCA\n",
    "from sklearn.pipeline import Pipeline"
   ]
  },
  {
   "cell_type": "markdown",
   "metadata": {},
   "source": [
    "## 1.0 - Read in your dataset\n",
    "\n",
    "Import the saved pickle file"
   ]
  },
  {
   "cell_type": "code",
   "execution_count": 2,
   "metadata": {},
   "outputs": [
    {
     "name": "stdout",
     "output_type": "stream",
     "text": [
      "Head is: ----------\n",
      "         BCLASS3        Country  Bid Spread  Cur Yld  G Spd  Years to Mat  \\\n",
      "0  Capital Goods    Switzerland        27.0     2.88   34.0          4.20   \n",
      "1  Capital Goods    Switzerland       103.0     4.26  107.0         24.20   \n",
      "2      Insurance  United States        74.0     3.87   60.0          3.97   \n",
      "3      Insurance  United States        59.0     3.55   54.0          5.30   \n",
      "4      Insurance  United States        82.0     3.58   66.0          6.72   \n",
      "\n",
      "      OAS    OAD    Amt Out    Cpn     ...      KRD 2Y KRD 5Y KRD 10Y KRD 20Y  \\\n",
      "0   33.65   3.91  1250000.0  2.875     ...        1.06   2.86    0.00    0.00   \n",
      "1  108.01  15.04   750000.0  4.375     ...        0.06   0.23    0.75    8.52   \n",
      "2   59.67   3.68   350000.0  4.000     ...        1.29   2.38    0.00    0.00   \n",
      "3   53.56   4.80   700000.0  3.625     ...        0.05   4.46    0.28    0.00   \n",
      "4   65.13   5.92   750000.0  3.625     ...        0.04   3.88    1.99    0.00   \n",
      "\n",
      "  KRD 30Y  S&P Rating Num  Accrued Int (%)  Yield to Mat  \\\n",
      "0    0.00             7.0            0.870          2.88   \n",
      "1    5.47             7.0            1.325          4.19   \n",
      "2    0.00             8.0            0.133          3.11   \n",
      "3    0.00             8.0            0.725          3.20   \n",
      "4    0.00             8.0            1.027          3.42   \n",
      "\n",
      "   Class - Detail - Code        date  \n",
      "0                   BBBK  2018-02-26  \n",
      "1                   BBBK  2018-02-26  \n",
      "2                   BAGA  2018-02-26  \n",
      "3                   BAGA  2018-02-26  \n",
      "4                   BAGA  2018-02-26  \n",
      "\n",
      "[5 rows x 27 columns]\n",
      "Tail is: ----------\n",
      "                       BCLASS3        Country  Bid Spread  Cur Yld  G Spd  \\\n",
      "1541000  Consumer Non-Cyclical  United States       125.0     3.90  125.0   \n",
      "1541001  Consumer Non-Cyclical  United States       148.0     4.49  148.0   \n",
      "1541002  Consumer Non-Cyclical  United States        56.0     3.23   57.0   \n",
      "1541003                Banking    Netherlands        68.0     1.93   69.0   \n",
      "1541004                Banking        S.Korea       157.0     3.89  156.0   \n",
      "\n",
      "         Years to Mat     OAS    OAD   Amt Out    Cpn     ...      KRD 2Y  \\\n",
      "1541000          9.45  123.47   7.79  500000.0  3.900     ...        0.06   \n",
      "1541001         29.45  151.14  16.35  400000.0  4.450     ...        0.08   \n",
      "1541002          2.45   57.07   2.34  300000.0  3.250     ...        1.90   \n",
      "1541003          2.36   68.79   2.27  300000.0  1.875     ...        1.92   \n",
      "1541004          2.75  155.13   2.56  500000.0  3.875     ...        1.86   \n",
      "\n",
      "        KRD 5Y KRD 10Y KRD 20Y KRD 30Y  S&P Rating Num  Accrued Int (%)  \\\n",
      "1541000   1.16    6.55    0.00    0.00            10.0            0.195   \n",
      "1541001   0.29    0.91    2.61   12.46            10.0            0.223   \n",
      "1541002   0.43    0.00    0.00    0.00            10.0            0.163   \n",
      "1541003   0.36    0.00    0.00    0.00             6.0            1.193   \n",
      "1541004   0.70    0.00    0.00    0.00             9.0            0.980   \n",
      "\n",
      "         Yield to Mat  Class - Detail - Code        date  \n",
      "1541000          3.88                   BBDE  2019-03-07  \n",
      "1541001          4.50                   BBDE  2019-03-07  \n",
      "1541002          3.04                   BBDE  2019-03-07  \n",
      "1541003          3.15                    BAA  2019-03-07  \n",
      "1541004          4.01                    BAA  2019-03-07  \n",
      "\n",
      "[5 rows x 27 columns]\n"
     ]
    }
   ],
   "source": [
    "df = pd.read_pickle('dataset/dataset_merge.pkl')\n",
    "print(\"Head is: ----------\")\n",
    "print(df.head())\n",
    "print(\"Tail is: ----------\")\n",
    "print(df.tail())"
   ]
  },
  {
   "cell_type": "code",
   "execution_count": 3,
   "metadata": {},
   "outputs": [
    {
     "name": "stdout",
     "output_type": "stream",
     "text": [
      "columns are: ----------\n",
      "Index(['BCLASS3', 'Country', 'Bid Spread', 'Cur Yld', 'G Spd', 'Years to Mat',\n",
      "       'OAS', 'OAD', 'Amt Out', 'Cpn', 'Excess Rtn', 'ISIN', 'Ticker', 'Mty',\n",
      "       'Iss Dt', 'Px Close', 'KRD 6M', 'KRD 2Y', 'KRD 5Y', 'KRD 10Y',\n",
      "       'KRD 20Y', 'KRD 30Y', 'S&P Rating Num', 'Accrued Int (%)',\n",
      "       'Yield to Mat', 'Class - Detail - Code', 'date'],\n",
      "      dtype='object')\n"
     ]
    }
   ],
   "source": [
    "print(\"columns are: ----------\")\n",
    "print(df.columns)"
   ]
  },
  {
   "cell_type": "markdown",
   "metadata": {},
   "source": [
    "## 1.a - Run dimensionality reduction\n",
    "\n",
    "This step is optional but helpful in normalizing your dataset for a better prediction.  \n",
    "\n",
    "You will normalize your dataset then apply the principal component analysis, which is a method that maximizes variance to uncover which components in your dataset have the highest impact to the overall variance of your dataset.  \n",
    "\n",
    "Because the PCA projects your data into directions that maximize variance, you need to normalize your dataset before applying PCA; otherwise, the PCA will favor variables with the larger variance.  \n",
    "\n",
    "Below, we replicate the code you applied in step 2.0 of week0.ipynb."
   ]
  },
  {
   "cell_type": "code",
   "execution_count": 5,
   "metadata": {},
   "outputs": [
    {
     "data": {
      "text/html": [
       "<div>\n",
       "<style scoped>\n",
       "    .dataframe tbody tr th:only-of-type {\n",
       "        vertical-align: middle;\n",
       "    }\n",
       "\n",
       "    .dataframe tbody tr th {\n",
       "        vertical-align: top;\n",
       "    }\n",
       "\n",
       "    .dataframe thead th {\n",
       "        text-align: right;\n",
       "    }\n",
       "</style>\n",
       "<table border=\"1\" class=\"dataframe\">\n",
       "  <thead>\n",
       "    <tr style=\"text-align: right;\">\n",
       "      <th></th>\n",
       "      <th>principal component 1</th>\n",
       "      <th>principal component 2</th>\n",
       "      <th>principal component 3</th>\n",
       "    </tr>\n",
       "  </thead>\n",
       "  <tbody>\n",
       "    <tr>\n",
       "      <th>0</th>\n",
       "      <td>-5.262594</td>\n",
       "      <td>1.031182</td>\n",
       "      <td>1.350632</td>\n",
       "    </tr>\n",
       "    <tr>\n",
       "      <th>1</th>\n",
       "      <td>-5.813801</td>\n",
       "      <td>1.661013</td>\n",
       "      <td>1.122304</td>\n",
       "    </tr>\n",
       "    <tr>\n",
       "      <th>2</th>\n",
       "      <td>-5.796228</td>\n",
       "      <td>1.953139</td>\n",
       "      <td>1.470411</td>\n",
       "    </tr>\n",
       "    <tr>\n",
       "      <th>3</th>\n",
       "      <td>-4.858668</td>\n",
       "      <td>0.528777</td>\n",
       "      <td>1.551973</td>\n",
       "    </tr>\n",
       "    <tr>\n",
       "      <th>4</th>\n",
       "      <td>-4.924218</td>\n",
       "      <td>0.788218</td>\n",
       "      <td>1.182522</td>\n",
       "    </tr>\n",
       "  </tbody>\n",
       "</table>\n",
       "</div>"
      ],
      "text/plain": [
       "   principal component 1  principal component 2  principal component 3\n",
       "0              -5.262594               1.031182               1.350632\n",
       "1              -5.813801               1.661013               1.122304\n",
       "2              -5.796228               1.953139               1.470411\n",
       "3              -4.858668               0.528777               1.551973\n",
       "4              -4.924218               0.788218               1.182522"
      ]
     },
     "execution_count": 5,
     "metadata": {},
     "output_type": "execute_result"
    }
   ],
   "source": [
    "# get the average stats for each cusip, you can group by different attribute to see different visualization\n",
    "ave_df = df.groupby('Cpn').mean()\n",
    "# fill the na, there are many different ways to fill na, \n",
    "# you can try different one to see how does them affect your result\n",
    "ave_df = ave_df.fillna(ave_df.mean())\n",
    "# we are doing a  StandardScaler here, similarly, there are different ways to scale data\n",
    "# please feel free to try other methods\n",
    "train_x = StandardScaler().fit_transform(ave_df)\n",
    "# apply pca to dataset\n",
    "pca = PCA(n_components=3)\n",
    "principalComponents = pca.fit_transform(train_x)\n",
    "principalDf = pd.DataFrame(data = principalComponents\n",
    "             , columns = ['principal component 1', 'principal component 2', 'principal component 3'])\n",
    "# we can have a look at the dataset now\n",
    "principalDf.head(5)"
   ]
  },
  {
   "cell_type": "code",
   "execution_count": 6,
   "metadata": {},
   "outputs": [
    {
     "name": "stderr",
     "output_type": "stream",
     "text": [
      "/Users/eunicehameyie/anaconda3/lib/python3.7/site-packages/matplotlib/collections.py:902: RuntimeWarning: invalid value encountered in sqrt\n",
      "  scale = np.sqrt(self._sizes) * dpi / 72.0 * self._factor\n"
     ]
    },
    {
     "data": {
      "text/plain": [
       "<matplotlib.collections.PathCollection at 0x1a279b3a20>"
      ]
     },
     "execution_count": 6,
     "metadata": {},
     "output_type": "execute_result"
    },
    {
     "data": {
      "image/png": "[encoded data removed]",
      "text/plain": [
       "<Figure size 576x576 with 1 Axes>"
      ]
     },
     "metadata": {
      "needs_background": "light"
     },
     "output_type": "display_data"
    }
   ],
   "source": [
    "# plot the dataset here\n",
    "fig = plt.figure(figsize = (8,8))\n",
    "ax = fig.add_subplot(1,1,1) \n",
    "x1 = principalDf['principal component 1']\n",
    "x2 = principalDf['principal component 2']\n",
    "x3 = principalDf['principal component 3']\n",
    "ax.scatter(x1, x2, x3)"
   ]
  },
  {
   "cell_type": "markdown",
   "metadata": {},
   "source": [
    "## 1.1b - Use euclidean distance\n",
    "\n",
    "In this step, we cluster dataset based on Euclidean distance."
   ]
  },
  {
   "cell_type": "markdown",
   "metadata": {},
   "source": [
    "## 1.1c - Use cosine similarity\n",
    "\n",
    "In this step, we cluster dataset based on cosine similarity."
   ]
  },
  {
   "cell_type": "markdown",
   "metadata": {},
   "source": [
    "## 1.1d - Use knn\n",
    "\n",
    "In this step, we cluster dataset based on KNN algorithm."
   ]
  },
  {
   "cell_type": "markdown",
   "metadata": {},
   "source": [
    "## 2.0 - Run a recommendation\n",
    "\n",
    "Test your recommendation algorithm and rank the following CUSIPS: US00037BAB80, US00037BAC63 and US001055AJ19.\n",
    "You'd want to list the top 10 answers from closest to least close."
   ]
  },
  {
   "cell_type": "code",
   "execution_count": null,
   "metadata": {},
   "outputs": [],
   "source": []
  }
 ],
 "metadata": {
  "coursera": {
   "course_slug": "convolutional-neural-networks",
   "graded_item_id": "bwbJV",
   "launcher_item_id": "0TkXB"
  },
  "kernelspec": {
   "display_name": "Python 3",
   "language": "python",
   "name": "python3"
  },
  "language_info": {
   "codemirror_mode": {
    "name": "ipython",
    "version": 3
   },
   "file_extension": ".py",
   "mimetype": "text/x-python",
   "name": "python",
   "nbconvert_exporter": "python",
   "pygments_lexer": "ipython3",
   "version": "3.7.0"
  }
 },
 "nbformat": 4,
 "nbformat_minor": 1
}
