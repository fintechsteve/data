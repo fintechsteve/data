{
  "nbformat": 4,
  "nbformat_minor": 0,
  "metadata": {
    "colab": {
      "name": "Part_04b_Creating_Turbulence_Model.ipynb",
      "version": "0.3.2",
      "provenance": [],
      "collapsed_sections": [],
      "include_colab_link": true
    },
    "kernelspec": {
      "display_name": "Python 3",
      "language": "python",
      "name": "python3"
    }
  },
  "cells": [
    {
      "cell_type": "markdown",
      "metadata": {
        "id": "view-in-github",
        "colab_type": "text"
      },
      "source": [
        "<a href=\"https://colab.research.google.com/github/fintechsteve/data/blob/master/Part_04b_Creating_Turbulence_Model.ipynb\" target=\"_parent\"><img src=\"https://colab.research.google.com/assets/colab-badge.svg\" alt=\"Open In Colab\"/></a>"
      ]
    },
    {
      "metadata": {
        "id": "BtCSSGGdu4Qt",
        "colab_type": "text"
      },
      "cell_type": "markdown",
      "source": [
        "## Part 04 (b): Creating a Turbulence Model\n",
        "\n",
        "### In this section you will:\n",
        "\n",
        "\n",
        "*   Create a turbulence function that estimates turbulence with a rolling window.\n",
        "*   Transform a turbulence signal into set of dynamic weights. Track performance of the model.\n",
        "*   Optimize the lookback and smoothing window.\n"
      ]
    },
    {
      "metadata": {
        "id": "ETMoGdnNrtjj",
        "colab_type": "text"
      },
      "cell_type": "markdown",
      "source": [
        "## Import all necessary libraries\n",
        "\n",
        "For this piece, we will need the following packages to be available to our environment:\n",
        "\n",
        "*   Numpy and Pandas (For data manipulation)\n",
        "*   DateTime (For basic date manipulation)\n",
        "*   Matplotlib (For timeseries vizualization)\n",
        "\n",
        "If the packages are not available, install the with \"pip install X\""
      ]
    },
    {
      "metadata": {
        "id": "FS6GYKq6T-ih",
        "colab_type": "code",
        "colab": {}
      },
      "cell_type": "code",
      "source": [
        "import numpy as np, pandas as pd\n",
        "from datetime import datetime, timedelta\n",
        "import pickle\n",
        "import matplotlib.pyplot as plt\n",
        "import bisect"
      ],
      "execution_count": 0,
      "outputs": []
    },
    {
      "metadata": {
        "id": "wBoMCDKYsdli",
        "colab_type": "text"
      },
      "cell_type": "markdown",
      "source": [
        "### Read in data from previously stored returns.pkl file\n",
        "\n"
      ]
    },
    {
      "metadata": {
        "id": "cFySsoztT-i9",
        "colab_type": "code",
        "cellView": "both",
        "outputId": "b9d576fc-9915-4c7e-cba7-1daa1e965846",
        "colab": {
          "base_uri": "https://localhost:8080/",
          "height": 359
        }
      },
      "cell_type": "code",
      "source": [
        "with open('./returns.pkl', 'rb') as f:\n",
        "    returns = pickle.load(f)\n",
        "    f.close()\n",
        "returns.head(10)"
      ],
      "execution_count": 3,
      "outputs": [
        {
          "output_type": "execute_result",
          "data": {
            "text/html": [
              "<div>\n",
              "<style scoped>\n",
              "    .dataframe tbody tr th:only-of-type {\n",
              "        vertical-align: middle;\n",
              "    }\n",
              "\n",
              "    .dataframe tbody tr th {\n",
              "        vertical-align: top;\n",
              "    }\n",
              "\n",
              "    .dataframe thead th {\n",
              "        text-align: right;\n",
              "    }\n",
              "</style>\n",
              "<table border=\"1\" class=\"dataframe\">\n",
              "  <thead>\n",
              "    <tr style=\"text-align: right;\">\n",
              "      <th></th>\n",
              "      <th>AUD</th>\n",
              "      <th>CAD</th>\n",
              "      <th>CHF</th>\n",
              "      <th>EUR</th>\n",
              "      <th>GBP</th>\n",
              "      <th>JPY</th>\n",
              "      <th>NOK</th>\n",
              "      <th>NZD</th>\n",
              "      <th>SEK</th>\n",
              "    </tr>\n",
              "  </thead>\n",
              "  <tbody>\n",
              "    <tr>\n",
              "      <th>1975-01-02</th>\n",
              "      <td>-0.002129</td>\n",
              "      <td>-1.712061e-03</td>\n",
              "      <td>-0.009915</td>\n",
              "      <td>-0.003544</td>\n",
              "      <td>-0.005745</td>\n",
              "      <td>-0.001502</td>\n",
              "      <td>-0.003299</td>\n",
              "      <td>0.000536</td>\n",
              "      <td>-0.004704</td>\n",
              "    </tr>\n",
              "    <tr>\n",
              "      <th>1975-01-03</th>\n",
              "      <td>-0.000947</td>\n",
              "      <td>1.517425e-05</td>\n",
              "      <td>0.008500</td>\n",
              "      <td>0.007886</td>\n",
              "      <td>0.003424</td>\n",
              "      <td>0.002711</td>\n",
              "      <td>0.008801</td>\n",
              "      <td>-0.001924</td>\n",
              "      <td>0.007113</td>\n",
              "    </tr>\n",
              "    <tr>\n",
              "      <th>1975-01-06</th>\n",
              "      <td>-0.001158</td>\n",
              "      <td>6.677374e-04</td>\n",
              "      <td>-0.001023</td>\n",
              "      <td>0.008174</td>\n",
              "      <td>0.002346</td>\n",
              "      <td>-0.004728</td>\n",
              "      <td>0.002759</td>\n",
              "      <td>-0.001129</td>\n",
              "      <td>0.009237</td>\n",
              "    </tr>\n",
              "    <tr>\n",
              "      <th>1975-01-07</th>\n",
              "      <td>0.004193</td>\n",
              "      <td>-1.726304e-03</td>\n",
              "      <td>0.001702</td>\n",
              "      <td>0.002150</td>\n",
              "      <td>0.001702</td>\n",
              "      <td>0.002410</td>\n",
              "      <td>0.005434</td>\n",
              "      <td>0.004567</td>\n",
              "      <td>-0.001466</td>\n",
              "    </tr>\n",
              "    <tr>\n",
              "      <th>1975-01-08</th>\n",
              "      <td>-0.001489</td>\n",
              "      <td>-2.000930e-04</td>\n",
              "      <td>-0.015237</td>\n",
              "      <td>-0.008650</td>\n",
              "      <td>-0.001997</td>\n",
              "      <td>0.000122</td>\n",
              "      <td>-0.006315</td>\n",
              "      <td>-0.000034</td>\n",
              "      <td>-0.006188</td>\n",
              "    </tr>\n",
              "    <tr>\n",
              "      <th>1975-01-09</th>\n",
              "      <td>-0.000324</td>\n",
              "      <td>-3.120108e-03</td>\n",
              "      <td>0.000298</td>\n",
              "      <td>0.004764</td>\n",
              "      <td>0.000298</td>\n",
              "      <td>-0.000409</td>\n",
              "      <td>-0.000114</td>\n",
              "      <td>-0.001217</td>\n",
              "      <td>-0.000751</td>\n",
              "    </tr>\n",
              "    <tr>\n",
              "      <th>1975-01-10</th>\n",
              "      <td>0.000077</td>\n",
              "      <td>-1.283429e-03</td>\n",
              "      <td>0.001489</td>\n",
              "      <td>0.001489</td>\n",
              "      <td>0.001489</td>\n",
              "      <td>0.000075</td>\n",
              "      <td>0.006256</td>\n",
              "      <td>0.000311</td>\n",
              "      <td>0.001489</td>\n",
              "    </tr>\n",
              "    <tr>\n",
              "      <th>1975-01-13</th>\n",
              "      <td>0.000579</td>\n",
              "      <td>-3.152212e-07</td>\n",
              "      <td>0.001789</td>\n",
              "      <td>-0.001210</td>\n",
              "      <td>0.000127</td>\n",
              "      <td>-0.000578</td>\n",
              "      <td>0.000542</td>\n",
              "      <td>0.000969</td>\n",
              "      <td>-0.002488</td>\n",
              "    </tr>\n",
              "    <tr>\n",
              "      <th>1975-01-14</th>\n",
              "      <td>-0.000699</td>\n",
              "      <td>7.303998e-04</td>\n",
              "      <td>-0.005132</td>\n",
              "      <td>-0.006698</td>\n",
              "      <td>-0.001827</td>\n",
              "      <td>0.000291</td>\n",
              "      <td>-0.006558</td>\n",
              "      <td>-0.000762</td>\n",
              "      <td>-0.007795</td>\n",
              "    </tr>\n",
              "    <tr>\n",
              "      <th>1975-01-15</th>\n",
              "      <td>-0.000934</td>\n",
              "      <td>1.198868e-03</td>\n",
              "      <td>-0.002078</td>\n",
              "      <td>0.001797</td>\n",
              "      <td>-0.000426</td>\n",
              "      <td>-0.002542</td>\n",
              "      <td>-0.002276</td>\n",
              "      <td>-0.000594</td>\n",
              "      <td>0.000094</td>\n",
              "    </tr>\n",
              "  </tbody>\n",
              "</table>\n",
              "</div>"
            ],
            "text/plain": [
              "                 AUD           CAD       CHF       EUR       GBP       JPY  \\\n",
              "1975-01-02 -0.002129 -1.712061e-03 -0.009915 -0.003544 -0.005745 -0.001502   \n",
              "1975-01-03 -0.000947  1.517425e-05  0.008500  0.007886  0.003424  0.002711   \n",
              "1975-01-06 -0.001158  6.677374e-04 -0.001023  0.008174  0.002346 -0.004728   \n",
              "1975-01-07  0.004193 -1.726304e-03  0.001702  0.002150  0.001702  0.002410   \n",
              "1975-01-08 -0.001489 -2.000930e-04 -0.015237 -0.008650 -0.001997  0.000122   \n",
              "1975-01-09 -0.000324 -3.120108e-03  0.000298  0.004764  0.000298 -0.000409   \n",
              "1975-01-10  0.000077 -1.283429e-03  0.001489  0.001489  0.001489  0.000075   \n",
              "1975-01-13  0.000579 -3.152212e-07  0.001789 -0.001210  0.000127 -0.000578   \n",
              "1975-01-14 -0.000699  7.303998e-04 -0.005132 -0.006698 -0.001827  0.000291   \n",
              "1975-01-15 -0.000934  1.198868e-03 -0.002078  0.001797 -0.000426 -0.002542   \n",
              "\n",
              "                 NOK       NZD       SEK  \n",
              "1975-01-02 -0.003299  0.000536 -0.004704  \n",
              "1975-01-03  0.008801 -0.001924  0.007113  \n",
              "1975-01-06  0.002759 -0.001129  0.009237  \n",
              "1975-01-07  0.005434  0.004567 -0.001466  \n",
              "1975-01-08 -0.006315 -0.000034 -0.006188  \n",
              "1975-01-09 -0.000114 -0.001217 -0.000751  \n",
              "1975-01-10  0.006256  0.000311  0.001489  \n",
              "1975-01-13  0.000542  0.000969 -0.002488  \n",
              "1975-01-14 -0.006558 -0.000762 -0.007795  \n",
              "1975-01-15 -0.002276 -0.000594  0.000094  "
            ]
          },
          "metadata": {
            "tags": []
          },
          "execution_count": 3
        }
      ]
    },
    {
      "metadata": {
        "id": "WPfZk0NLtIaU",
        "colab_type": "text"
      },
      "cell_type": "markdown",
      "source": [
        "### Create a function that calculates turbulence for the whole window supplied using the last row as the observed return\n",
        "\n",
        "Note that for faster computation we can replace ``` np.linalg.pinv(covmat)@(r - mu) ``` with ``` np.linalg.lstsq(covmat, r - mu)[0] ```\n",
        "\n",
        "Also note that a more proper calculation of turbulence would only use rows 1:n-1 to calculate mean and covariance. But everybody seems to include n, so we aren't going to get upset here because it is simpler."
      ]
    },
    {
      "metadata": {
        "id": "cyFwsRh7T-jC",
        "colab_type": "code",
        "colab": {}
      },
      "cell_type": "code",
      "source": [
        "def simple_turbulence(rets):\n",
        "  meanret = rets.mean()\n",
        "  covrets = rets.cov()\n",
        "  turbvalue = (rets[-1:]-meanret)@np.linalg.lstsq(covrets,(rets[-1:]-meanret).T, rcond=None)[0]\n",
        "  turbvalue.columns = ['daily']\n",
        "  return turbvalue"
      ],
      "execution_count": 0,
      "outputs": []
    },
    {
      "metadata": {
        "id": "qinK625FmwO3",
        "colab_type": "code",
        "outputId": "6afc9696-e2a0-4e7e-f408-d5a22046bef2",
        "colab": {
          "base_uri": "https://localhost:8080/",
          "height": 80
        }
      },
      "cell_type": "code",
      "source": [
        "turb_singleday = simple_turbulence(returns)\n",
        "turb_singleday"
      ],
      "execution_count": 5,
      "outputs": [
        {
          "output_type": "execute_result",
          "data": {
            "text/html": [
              "<div>\n",
              "<style scoped>\n",
              "    .dataframe tbody tr th:only-of-type {\n",
              "        vertical-align: middle;\n",
              "    }\n",
              "\n",
              "    .dataframe tbody tr th {\n",
              "        vertical-align: top;\n",
              "    }\n",
              "\n",
              "    .dataframe thead th {\n",
              "        text-align: right;\n",
              "    }\n",
              "</style>\n",
              "<table border=\"1\" class=\"dataframe\">\n",
              "  <thead>\n",
              "    <tr style=\"text-align: right;\">\n",
              "      <th></th>\n",
              "      <th>daily</th>\n",
              "    </tr>\n",
              "  </thead>\n",
              "  <tbody>\n",
              "    <tr>\n",
              "      <th>2017-12-26</th>\n",
              "      <td>1.944164</td>\n",
              "    </tr>\n",
              "  </tbody>\n",
              "</table>\n",
              "</div>"
            ],
            "text/plain": [
              "               daily\n",
              "2017-12-26  1.944164"
            ]
          },
          "metadata": {
            "tags": []
          },
          "execution_count": 5
        }
      ]
    },
    {
      "metadata": {
        "id": "6rL7V05_kAzg",
        "colab_type": "text"
      },
      "cell_type": "markdown",
      "source": [
        "### Create a function that calculates rolling turbulence given a lookback window and a smoothing window\n",
        "\n",
        "To do this, we are going to create a function ```roll``` that generates a rolling window of returns for a specified window length, and a function that applies the turbulence calculation to that window."
      ]
    },
    {
      "metadata": {
        "id": "ZYRisZw66GDy",
        "colab_type": "code",
        "colab": {}
      },
      "cell_type": "code",
      "source": [
        "def roll(df, w):\n",
        "    for i in range(df.shape[0] - w + 1):\n",
        "        yield pd.DataFrame(df.values[i:i+w, :], df.index[i:i+w], df.columns)\n",
        "  \n",
        "def rolling_turbulence(rets, lookback=260, smoothing=20):\n",
        "    roll_turb = pd.concat([simple_turbulence(retwindow) for retwindow in roll(rets, lookback)], axis=0)\n",
        "    roll_turb_smooth = pd.DataFrame(roll_turb.rolling(smoothing).mean()).rename(columns={'daily':'smoothed'})\n",
        "    rets = rets.join(roll_turb)\n",
        "    rets = rets.join(roll_turb_smooth)\n",
        "    return rets[['daily','smoothed']]"
      ],
      "execution_count": 0,
      "outputs": []
    },
    {
      "metadata": {
        "id": "al1TiJa-msmW",
        "colab_type": "code",
        "outputId": "972c71e9-2991-4876-a9ed-c93885015b9e",
        "colab": {
          "base_uri": "https://localhost:8080/",
          "height": 669
        }
      },
      "cell_type": "code",
      "source": [
        "roll_turb = rolling_turbulence(returns, lookback=260, smoothing=20)\n",
        "roll_turb.tail(20)"
      ],
      "execution_count": 7,
      "outputs": [
        {
          "output_type": "execute_result",
          "data": {
            "text/html": [
              "<div>\n",
              "<style scoped>\n",
              "    .dataframe tbody tr th:only-of-type {\n",
              "        vertical-align: middle;\n",
              "    }\n",
              "\n",
              "    .dataframe tbody tr th {\n",
              "        vertical-align: top;\n",
              "    }\n",
              "\n",
              "    .dataframe thead th {\n",
              "        text-align: right;\n",
              "    }\n",
              "</style>\n",
              "<table border=\"1\" class=\"dataframe\">\n",
              "  <thead>\n",
              "    <tr style=\"text-align: right;\">\n",
              "      <th></th>\n",
              "      <th>daily</th>\n",
              "      <th>smoothed</th>\n",
              "    </tr>\n",
              "  </thead>\n",
              "  <tbody>\n",
              "    <tr>\n",
              "      <th>2017-11-29</th>\n",
              "      <td>11.708329</td>\n",
              "      <td>8.198902</td>\n",
              "    </tr>\n",
              "    <tr>\n",
              "      <th>2017-11-30</th>\n",
              "      <td>19.434739</td>\n",
              "      <td>8.275519</td>\n",
              "    </tr>\n",
              "    <tr>\n",
              "      <th>2017-12-01</th>\n",
              "      <td>16.035338</td>\n",
              "      <td>8.625853</td>\n",
              "    </tr>\n",
              "    <tr>\n",
              "      <th>2017-12-04</th>\n",
              "      <td>3.472929</td>\n",
              "      <td>8.539207</td>\n",
              "    </tr>\n",
              "    <tr>\n",
              "      <th>2017-12-05</th>\n",
              "      <td>4.495685</td>\n",
              "      <td>8.672033</td>\n",
              "    </tr>\n",
              "    <tr>\n",
              "      <th>2017-12-06</th>\n",
              "      <td>15.095148</td>\n",
              "      <td>9.194906</td>\n",
              "    </tr>\n",
              "    <tr>\n",
              "      <th>2017-12-07</th>\n",
              "      <td>6.858294</td>\n",
              "      <td>9.277124</td>\n",
              "    </tr>\n",
              "    <tr>\n",
              "      <th>2017-12-08</th>\n",
              "      <td>4.493710</td>\n",
              "      <td>9.385128</td>\n",
              "    </tr>\n",
              "    <tr>\n",
              "      <th>2017-12-11</th>\n",
              "      <td>15.851664</td>\n",
              "      <td>9.848611</td>\n",
              "    </tr>\n",
              "    <tr>\n",
              "      <th>2017-12-12</th>\n",
              "      <td>14.919482</td>\n",
              "      <td>9.333394</td>\n",
              "    </tr>\n",
              "    <tr>\n",
              "      <th>2017-12-13</th>\n",
              "      <td>7.104382</td>\n",
              "      <td>9.255318</td>\n",
              "    </tr>\n",
              "    <tr>\n",
              "      <th>2017-12-14</th>\n",
              "      <td>14.024887</td>\n",
              "      <td>9.301566</td>\n",
              "    </tr>\n",
              "    <tr>\n",
              "      <th>2017-12-15</th>\n",
              "      <td>9.508751</td>\n",
              "      <td>9.201255</td>\n",
              "    </tr>\n",
              "    <tr>\n",
              "      <th>2017-12-18</th>\n",
              "      <td>10.218734</td>\n",
              "      <td>9.534421</td>\n",
              "    </tr>\n",
              "    <tr>\n",
              "      <th>2017-12-19</th>\n",
              "      <td>2.355405</td>\n",
              "      <td>9.312686</td>\n",
              "    </tr>\n",
              "    <tr>\n",
              "      <th>2017-12-20</th>\n",
              "      <td>9.792659</td>\n",
              "      <td>9.515570</td>\n",
              "    </tr>\n",
              "    <tr>\n",
              "      <th>2017-12-21</th>\n",
              "      <td>11.585900</td>\n",
              "      <td>9.753695</td>\n",
              "    </tr>\n",
              "    <tr>\n",
              "      <th>2017-12-22</th>\n",
              "      <td>10.544862</td>\n",
              "      <td>9.921964</td>\n",
              "    </tr>\n",
              "    <tr>\n",
              "      <th>2017-12-25</th>\n",
              "      <td>0.023829</td>\n",
              "      <td>9.718984</td>\n",
              "    </tr>\n",
              "    <tr>\n",
              "      <th>2017-12-26</th>\n",
              "      <td>2.041302</td>\n",
              "      <td>9.478301</td>\n",
              "    </tr>\n",
              "  </tbody>\n",
              "</table>\n",
              "</div>"
            ],
            "text/plain": [
              "                daily  smoothed\n",
              "2017-11-29  11.708329  8.198902\n",
              "2017-11-30  19.434739  8.275519\n",
              "2017-12-01  16.035338  8.625853\n",
              "2017-12-04   3.472929  8.539207\n",
              "2017-12-05   4.495685  8.672033\n",
              "2017-12-06  15.095148  9.194906\n",
              "2017-12-07   6.858294  9.277124\n",
              "2017-12-08   4.493710  9.385128\n",
              "2017-12-11  15.851664  9.848611\n",
              "2017-12-12  14.919482  9.333394\n",
              "2017-12-13   7.104382  9.255318\n",
              "2017-12-14  14.024887  9.301566\n",
              "2017-12-15   9.508751  9.201255\n",
              "2017-12-18  10.218734  9.534421\n",
              "2017-12-19   2.355405  9.312686\n",
              "2017-12-20   9.792659  9.515570\n",
              "2017-12-21  11.585900  9.753695\n",
              "2017-12-22  10.544862  9.921964\n",
              "2017-12-25   0.023829  9.718984\n",
              "2017-12-26   2.041302  9.478301"
            ]
          },
          "metadata": {
            "tags": []
          },
          "execution_count": 7
        }
      ]
    },
    {
      "metadata": {
        "id": "lX2SH9yqI1e7",
        "colab_type": "code",
        "outputId": "1e0bdcfe-bc87-4256-d19d-8453e1fe75e4",
        "colab": {
          "base_uri": "https://localhost:8080/",
          "height": 286
        }
      },
      "cell_type": "code",
      "source": [
        "roll_turb.plot()"
      ],
      "execution_count": 8,
      "outputs": [
        {
          "output_type": "execute_result",
          "data": {
            "text/plain": [
              "<matplotlib.axes._subplots.AxesSubplot at 0x7f75a1453208>"
            ]
          },
          "metadata": {
            "tags": []
          },
          "execution_count": 8
        },
        {
          "output_type": "display_data",
          "data": {
            "image/png": "[encoded data removed]",
            "text/plain": [
              "<Figure size 432x288 with 1 Axes>"
            ]
          },
          "metadata": {
            "tags": []
          }
        }
      ]
    },
    {
      "metadata": {
        "id": "nrZTZ568uGXu",
        "colab_type": "text"
      },
      "cell_type": "markdown",
      "source": [
        "### Convert rolling turbulence into a weight (And do so in a function)\n",
        "\n",
        "Turbulence as a raw statistic ranges between 0 and infinity. It cannot be directly used for investment strategies without some kind of transformation into model weights.\n",
        "\n",
        "Our most obvious optiions are to create a binary cutoff or linear ranking. We are going to use linear ranking, though there are reasons why you might want to use a binary cutoff (simple on/off model).\n",
        "\n",
        "The linear ranking, when used in-sample, should map results to a uniform distribution."
      ]
    },
    {
      "metadata": {
        "id": "lCW0NX0odY_R",
        "colab_type": "code",
        "outputId": "b1aba278-ea8c-4055-8bf8-71bb35044119",
        "colab": {
          "base_uri": "https://localhost:8080/",
          "height": 286
        }
      },
      "cell_type": "code",
      "source": [
        "roll_turb['smoothed'].hist(bins=50)"
      ],
      "execution_count": 9,
      "outputs": [
        {
          "output_type": "execute_result",
          "data": {
            "text/plain": [
              "<matplotlib.axes._subplots.AxesSubplot at 0x7f75a34955c0>"
            ]
          },
          "metadata": {
            "tags": []
          },
          "execution_count": 9
        },
        {
          "output_type": "display_data",
          "data": {
            "image/png": "[encoded data removed]",
            "text/plain": [
              "<Figure size 432x288 with 1 Axes>"
            ]
          },
          "metadata": {
            "tags": []
          }
        }
      ]
    },
    {
      "metadata": {
        "id": "zqf9ivy6XYe4",
        "colab_type": "code",
        "outputId": "2f1707ba-2cb5-43a0-9576-501a89d6c6cb",
        "colab": {
          "base_uri": "https://localhost:8080/",
          "height": 286
        }
      },
      "cell_type": "code",
      "source": [
        "historical_turb_rank = roll_turb['smoothed'].dropna().rank()/roll_turb['smoothed'].count()\n",
        "historical_turb_rank.hist(bins=50)\n"
      ],
      "execution_count": 10,
      "outputs": [
        {
          "output_type": "execute_result",
          "data": {
            "text/plain": [
              "<matplotlib.axes._subplots.AxesSubplot at 0x7f759f1d6390>"
            ]
          },
          "metadata": {
            "tags": []
          },
          "execution_count": 10
        },
        {
          "output_type": "display_data",
          "data": {
            "image/png": "[encoded data removed]",
            "text/plain": [
              "<Figure size 432x288 with 1 Axes>"
            ]
          },
          "metadata": {
            "tags": []
          }
        }
      ]
    },
    {
      "metadata": {
        "id": "X4bJWUpHE1pR",
        "colab_type": "code",
        "outputId": "9f608dfe-4c59-49ad-c2a8-bdc9d10300f5",
        "colab": {
          "base_uri": "https://localhost:8080/",
          "height": 286
        }
      },
      "cell_type": "code",
      "source": [
        "insample_start_date = '1975-01-02'\n",
        "insample_end_date = '2000-01-01'\n",
        "insample_turb = (roll_turb['smoothed'].loc[insample_start_date:insample_end_date]).dropna().values\n",
        "insample_turb.sort()\n",
        "num_insample = np.size(insample_turb)\n",
        "roll_turb['ranked'] = np.true_divide(list(map(lambda x:float('NaN') if np.isnan(x) else bisect.bisect_left(insample_turb,x), roll_turb['smoothed'])),num_insample)\n",
        "roll_turb['ranked'].plot()"
      ],
      "execution_count": 11,
      "outputs": [
        {
          "output_type": "execute_result",
          "data": {
            "text/plain": [
              "<matplotlib.axes._subplots.AxesSubplot at 0x7f75a0159320>"
            ]
          },
          "metadata": {
            "tags": []
          },
          "execution_count": 11
        },
        {
          "output_type": "display_data",
          "data": {
            "image/png": "[encoded data removed]",
            "text/plain": [
              "<Figure size 432x288 with 1 Axes>"
            ]
          },
          "metadata": {
            "tags": []
          }
        }
      ]
    },
    {
      "metadata": {
        "id": "5GYgPevt22DJ",
        "colab_type": "code",
        "colab": {}
      },
      "cell_type": "code",
      "source": [
        "def turbulence_weights(roll_turb, insample_start_date, insample_end_date):\n",
        "  insample_turb = (roll_turb['smoothed'].loc[insample_start_date:insample_end_date]).dropna().values\n",
        "  insample_turb.sort()\n",
        "  num_insample = np.size(insample_turb)\n",
        "  turb_weights = pd.DataFrame(np.true_divide(list(map(lambda x:float('NaN') if np.isnan(x) else bisect.bisect_left(insample_turb,x), roll_turb['smoothed'])),num_insample), index=roll_turb.index)\n",
        "  turb_weights.columns=['weights']\n",
        "  return turb_weights"
      ],
      "execution_count": 0,
      "outputs": []
    },
    {
      "metadata": {
        "id": "MjKhquX373So",
        "colab_type": "code",
        "outputId": "34da9642-1249-470c-9307-d7a017d2da9a",
        "colab": {
          "base_uri": "https://localhost:8080/",
          "height": 669
        }
      },
      "cell_type": "code",
      "source": [
        "turb_weights = turbulence_weights(roll_turb, '1975-01-02', '2000-01-01')\n",
        "turb_weights.tail(20)"
      ],
      "execution_count": 25,
      "outputs": [
        {
          "output_type": "execute_result",
          "data": {
            "text/html": [
              "<div>\n",
              "<style scoped>\n",
              "    .dataframe tbody tr th:only-of-type {\n",
              "        vertical-align: middle;\n",
              "    }\n",
              "\n",
              "    .dataframe tbody tr th {\n",
              "        vertical-align: top;\n",
              "    }\n",
              "\n",
              "    .dataframe thead th {\n",
              "        text-align: right;\n",
              "    }\n",
              "</style>\n",
              "<table border=\"1\" class=\"dataframe\">\n",
              "  <thead>\n",
              "    <tr style=\"text-align: right;\">\n",
              "      <th></th>\n",
              "      <th>weights</th>\n",
              "    </tr>\n",
              "  </thead>\n",
              "  <tbody>\n",
              "    <tr>\n",
              "      <th>2017-11-29</th>\n",
              "      <td>0.504805</td>\n",
              "    </tr>\n",
              "    <tr>\n",
              "      <th>2017-11-30</th>\n",
              "      <td>0.510730</td>\n",
              "    </tr>\n",
              "    <tr>\n",
              "      <th>2017-12-01</th>\n",
              "      <td>0.543722</td>\n",
              "    </tr>\n",
              "    <tr>\n",
              "      <th>2017-12-04</th>\n",
              "      <td>0.536355</td>\n",
              "    </tr>\n",
              "    <tr>\n",
              "      <th>2017-12-05</th>\n",
              "      <td>0.547406</td>\n",
              "    </tr>\n",
              "    <tr>\n",
              "      <th>2017-12-06</th>\n",
              "      <td>0.593530</td>\n",
              "    </tr>\n",
              "    <tr>\n",
              "      <th>2017-12-07</th>\n",
              "      <td>0.600897</td>\n",
              "    </tr>\n",
              "    <tr>\n",
              "      <th>2017-12-08</th>\n",
              "      <td>0.608424</td>\n",
              "    </tr>\n",
              "    <tr>\n",
              "      <th>2017-12-11</th>\n",
              "      <td>0.647822</td>\n",
              "    </tr>\n",
              "    <tr>\n",
              "      <th>2017-12-12</th>\n",
              "      <td>0.604901</td>\n",
              "    </tr>\n",
              "    <tr>\n",
              "      <th>2017-12-13</th>\n",
              "      <td>0.598014</td>\n",
              "    </tr>\n",
              "    <tr>\n",
              "      <th>2017-12-14</th>\n",
              "      <td>0.602498</td>\n",
              "    </tr>\n",
              "    <tr>\n",
              "      <th>2017-12-15</th>\n",
              "      <td>0.594170</td>\n",
              "    </tr>\n",
              "    <tr>\n",
              "      <th>2017-12-18</th>\n",
              "      <td>0.618834</td>\n",
              "    </tr>\n",
              "    <tr>\n",
              "      <th>2017-12-19</th>\n",
              "      <td>0.603139</td>\n",
              "    </tr>\n",
              "    <tr>\n",
              "      <th>2017-12-20</th>\n",
              "      <td>0.617553</td>\n",
              "    </tr>\n",
              "    <tr>\n",
              "      <th>2017-12-21</th>\n",
              "      <td>0.639494</td>\n",
              "    </tr>\n",
              "    <tr>\n",
              "      <th>2017-12-22</th>\n",
              "      <td>0.652627</td>\n",
              "    </tr>\n",
              "    <tr>\n",
              "      <th>2017-12-25</th>\n",
              "      <td>0.635650</td>\n",
              "    </tr>\n",
              "    <tr>\n",
              "      <th>2017-12-26</th>\n",
              "      <td>0.615471</td>\n",
              "    </tr>\n",
              "  </tbody>\n",
              "</table>\n",
              "</div>"
            ],
            "text/plain": [
              "             weights\n",
              "2017-11-29  0.504805\n",
              "2017-11-30  0.510730\n",
              "2017-12-01  0.543722\n",
              "2017-12-04  0.536355\n",
              "2017-12-05  0.547406\n",
              "2017-12-06  0.593530\n",
              "2017-12-07  0.600897\n",
              "2017-12-08  0.608424\n",
              "2017-12-11  0.647822\n",
              "2017-12-12  0.604901\n",
              "2017-12-13  0.598014\n",
              "2017-12-14  0.602498\n",
              "2017-12-15  0.594170\n",
              "2017-12-18  0.618834\n",
              "2017-12-19  0.603139\n",
              "2017-12-20  0.617553\n",
              "2017-12-21  0.639494\n",
              "2017-12-22  0.652627\n",
              "2017-12-25  0.635650\n",
              "2017-12-26  0.615471"
            ]
          },
          "metadata": {
            "tags": []
          },
          "execution_count": 25
        }
      ]
    },
    {
      "metadata": {
        "id": "N20M0VTMyxil",
        "colab_type": "text"
      },
      "cell_type": "markdown",
      "source": [
        "### Calculate the performance of the turbulence model\n",
        "\n",
        "Leveraging the framework we developed in Part 3, we calculate the excess performance of the model.\n"
      ]
    },
    {
      "metadata": {
        "id": "naWuvBdzu-NZ",
        "colab_type": "code",
        "colab": {}
      },
      "cell_type": "code",
      "source": [
        "def model_perf(model_wts, dxyfsq, framework_params):\n",
        "  model_vol = pd.DataFrame(model_wts[model_wts.columns[0]]*dxyfsq[dxyfsq.columns[0]],index=dxyfsq.index) #modified the code a little to handle the possibility that column headings are not constant.\n",
        "  avgmodel_vol = np.mean(model_wts.loc[framework_params['insample_start_date']:framework_params['insample_end_date']].dropna()[model_wts.columns[0]])*dxyfsq\n",
        "  is_vol = np.sqrt(np.mean(model_vol.loc[framework_params['insample_start_date']:framework_params['insample_end_date']].dropna()))[0]\n",
        "  out_vol = np.sqrt(np.mean(model_vol.loc[framework_params['outofsample_start_date']:framework_params['outofsample_end_date']].dropna()))[0]\n",
        "\n",
        "  is_avg_vol = np.sqrt(np.mean(avgmodel_vol.loc[framework_params['insample_start_date']:framework_params['insample_end_date']].dropna()))[0]\n",
        "  out_avg_vol = np.sqrt(np.mean(avgmodel_vol.loc[framework_params['outofsample_start_date']:framework_params['outofsample_end_date']].dropna()))[0]\n",
        "\n",
        "  model_perf_stats = {'insample vol': is_vol, 'insample excess vol': is_vol - is_avg_vol,\n",
        "                      'out-of-sample vol': out_vol, 'out-of-sample excess vol': out_vol - out_avg_vol}\n",
        "  return model_perf_stats"
      ],
      "execution_count": 0,
      "outputs": []
    },
    {
      "metadata": {
        "id": "VL5tpBzRSQJp",
        "colab_type": "code",
        "outputId": "8226fe79-718f-45be-f45b-85c6a120da63",
        "colab": {
          "base_uri": "https://localhost:8080/",
          "height": 85
        }
      },
      "cell_type": "code",
      "source": [
        "framework_params = {'insample_start_date': '1975-01-02',\n",
        "                    'insample_end_date': '2000-01-01',\n",
        "                    'outofsample_start_date': '2000-01-02',\n",
        "                    'outofsample_end_date': '2017-12-26'}\n",
        "\n",
        "dxy_weight = [0, 0.119, 0.036, 0, 0.136, 0.576, 0, 0, 0.091]\n",
        "dxy = pd.DataFrame(returns.dot(dxy_weight))\n",
        "dxy_forward = dxy.shift(-1)\n",
        "dxy_forward_sq = dxy_forward**2\n",
        "\n",
        "model_wts = turb_weights\n",
        "dxyfsq = dxy_forward_sq\n",
        "\n",
        "model_perf(turb_weights, dxy_forward_sq, framework_params)"
      ],
      "execution_count": 52,
      "outputs": [
        {
          "output_type": "execute_result",
          "data": {
            "text/plain": [
              "{'insample excess vol': 0.0002628145127898029,\n",
              " 'insample vol': 0.0036668027909790577,\n",
              " 'out-of-sample excess vol': 0.0002046628705417203,\n",
              " 'out-of-sample vol': 0.0033668848494255734}"
            ]
          },
          "metadata": {
            "tags": []
          },
          "execution_count": 52
        }
      ]
    },
    {
      "metadata": {
        "id": "byOlnZO40EDx",
        "colab_type": "text"
      },
      "cell_type": "markdown",
      "source": [
        "### Demonstrate that turbulence leads to persistently high volatility days"
      ]
    },
    {
      "metadata": {
        "id": "stRMHt7qy6Pr",
        "colab_type": "code",
        "outputId": "d3feb0f9-2659-4159-f484-7706411d3029",
        "colab": {
          "base_uri": "https://localhost:8080/",
          "height": 390
        }
      },
      "cell_type": "code",
      "source": [
        "leading_dxy = pd.DataFrame([dxy.shift(-i) for i in range(0, 11)]).T\n",
        "subsequent_vol = pd.DataFrame([leading_dxy[highturbulence].std(), leading_dxy[~highturbulence].std()],index=['High Turb','Low Turb']).T\n",
        "subsequent_vol"
      ],
      "execution_count": 0,
      "outputs": [
        {
          "output_type": "execute_result",
          "data": {
            "text/html": [
              "<div>\n",
              "<style scoped>\n",
              "    .dataframe tbody tr th:only-of-type {\n",
              "        vertical-align: middle;\n",
              "    }\n",
              "\n",
              "    .dataframe tbody tr th {\n",
              "        vertical-align: top;\n",
              "    }\n",
              "\n",
              "    .dataframe thead th {\n",
              "        text-align: right;\n",
              "    }\n",
              "</style>\n",
              "<table border=\"1\" class=\"dataframe\">\n",
              "  <thead>\n",
              "    <tr style=\"text-align: right;\">\n",
              "      <th></th>\n",
              "      <th>High Turb</th>\n",
              "      <th>Low Turb</th>\n",
              "    </tr>\n",
              "  </thead>\n",
              "  <tbody>\n",
              "    <tr>\n",
              "      <th>0</th>\n",
              "      <td>0.007590</td>\n",
              "      <td>0.003580</td>\n",
              "    </tr>\n",
              "    <tr>\n",
              "      <th>1</th>\n",
              "      <td>0.005493</td>\n",
              "      <td>0.004446</td>\n",
              "    </tr>\n",
              "    <tr>\n",
              "      <th>2</th>\n",
              "      <td>0.005453</td>\n",
              "      <td>0.004458</td>\n",
              "    </tr>\n",
              "    <tr>\n",
              "      <th>3</th>\n",
              "      <td>0.005319</td>\n",
              "      <td>0.004499</td>\n",
              "    </tr>\n",
              "    <tr>\n",
              "      <th>4</th>\n",
              "      <td>0.005441</td>\n",
              "      <td>0.004461</td>\n",
              "    </tr>\n",
              "    <tr>\n",
              "      <th>5</th>\n",
              "      <td>0.005424</td>\n",
              "      <td>0.004467</td>\n",
              "    </tr>\n",
              "    <tr>\n",
              "      <th>6</th>\n",
              "      <td>0.005321</td>\n",
              "      <td>0.004499</td>\n",
              "    </tr>\n",
              "    <tr>\n",
              "      <th>7</th>\n",
              "      <td>0.005109</td>\n",
              "      <td>0.004560</td>\n",
              "    </tr>\n",
              "    <tr>\n",
              "      <th>8</th>\n",
              "      <td>0.005221</td>\n",
              "      <td>0.004529</td>\n",
              "    </tr>\n",
              "    <tr>\n",
              "      <th>9</th>\n",
              "      <td>0.005095</td>\n",
              "      <td>0.004565</td>\n",
              "    </tr>\n",
              "    <tr>\n",
              "      <th>10</th>\n",
              "      <td>0.005267</td>\n",
              "      <td>0.004516</td>\n",
              "    </tr>\n",
              "  </tbody>\n",
              "</table>\n",
              "</div>"
            ],
            "text/plain": [
              "    High Turb  Low Turb\n",
              "0    0.007590  0.003580\n",
              "1    0.005493  0.004446\n",
              "2    0.005453  0.004458\n",
              "3    0.005319  0.004499\n",
              "4    0.005441  0.004461\n",
              "5    0.005424  0.004467\n",
              "6    0.005321  0.004499\n",
              "7    0.005109  0.004560\n",
              "8    0.005221  0.004529\n",
              "9    0.005095  0.004565\n",
              "10   0.005267  0.004516"
            ]
          },
          "metadata": {
            "tags": []
          },
          "execution_count": 123
        }
      ]
    },
    {
      "metadata": {
        "id": "-93ZyVJIPwv6",
        "colab_type": "code",
        "outputId": "2c18930d-c218-480e-e971-25f8ab0bfc92",
        "colab": {
          "base_uri": "https://localhost:8080/",
          "height": 364
        }
      },
      "cell_type": "code",
      "source": [
        "subsequent_vol.plot()"
      ],
      "execution_count": 0,
      "outputs": [
        {
          "output_type": "execute_result",
          "data": {
            "text/plain": [
              "<matplotlib.axes._subplots.AxesSubplot at 0x7fa7d435cda0>"
            ]
          },
          "metadata": {
            "tags": []
          },
          "execution_count": 124
        },
        {
          "output_type": "display_data",
          "data": {
            "image/png": "[encoded data removed]",
            "text/plain": [
              "<Figure size 576x396 with 1 Axes>"
            ]
          },
          "metadata": {
            "tags": []
          }
        }
      ]
    },
    {
      "metadata": {
        "id": "Zcaj07aCaX6o",
        "colab_type": "code",
        "colab": {}
      },
      "cell_type": "code",
      "source": [
        ""
      ],
      "execution_count": 0,
      "outputs": []
    }
  ]
}